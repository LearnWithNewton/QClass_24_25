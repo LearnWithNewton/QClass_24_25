{
 "cells": [
  {
   "cell_type": "markdown",
   "metadata": {},
   "source": [
    "# HomeWork 1\n",
    "\n",
    "## numpy installation\n",
    "\n"
   ]
  },
  {
   "cell_type": "code",
   "execution_count": 5,
   "metadata": {},
   "outputs": [],
   "source": [
    "# Uncomment to install\n",
    " \n",
    "#pip install numpy "
   ]
  },
  {
   "cell_type": "markdown",
   "metadata": {},
   "source": [
    "### 1\n",
    "\n",
    "![Question1](./images/1.png)\n",
    "\n",
    "> Right Answer: `a=12.12 ; c=14.00`"
   ]
  },
  {
   "cell_type": "code",
   "execution_count": 6,
   "metadata": {},
   "outputs": [
    {
     "name": "stdout",
     "output_type": "stream",
     "text": [
      "Side a: 12.124355652982143 units\n",
      "Side c: 14.000000000000002 units\n"
     ]
    }
   ],
   "source": [
    "import math\n",
    "\n",
    "# Given values\n",
    "b = 7  # Side b (opposite)\n",
    "angle_ac = 30  # Angle between a and c in degrees\n",
    "\n",
    "# Convert angle to radians since math functions use radians\n",
    "angle_ac_rad = math.radians(angle_ac)\n",
    "\n",
    "# Calculate side c using sine relation\n",
    "c = b / math.sin(angle_ac_rad)\n",
    "\n",
    "# Calculate side a using cosine relation\n",
    "a = c * math.cos(angle_ac_rad)\n",
    "\n",
    "print(f\"Side a: {a} units\")\n",
    "print(f\"Side c: {c} units\")\n"
   ]
  },
  {
   "cell_type": "markdown",
   "metadata": {},
   "source": [
    "### 2\n",
    "\n",
    "![Question2](./images/2.png)\n",
    "\n",
    "> Right Answer: `−11.1 − 21.9i`"
   ]
  },
  {
   "cell_type": "code",
   "execution_count": 7,
   "metadata": {},
   "outputs": [
    {
     "name": "stdout",
     "output_type": "stream",
     "text": [
      "(-11.100000000000001-21.9j)\n"
     ]
    }
   ],
   "source": [
    "import numpy as np\n",
    "\n",
    "# Define the complex numbers\n",
    "z1 = 3.0 - 5.0j\n",
    "z2 = -4.2 - 0.3j\n",
    "\n",
    "# Perform multiplication\n",
    "result = z2 * np.conjugate(z1)\n",
    "\n",
    "print(result)"
   ]
  },
  {
   "cell_type": "markdown",
   "metadata": {},
   "source": [
    "### 3\n",
    "\n",
    "![Question3](./images/3.png)\n",
    "\n",
    "Right Answer: `[[-1  8  3]]`"
   ]
  },
  {
   "cell_type": "code",
   "execution_count": 8,
   "metadata": {},
   "outputs": [
    {
     "name": "stdout",
     "output_type": "stream",
     "text": [
      "[[-1  8  3]]\n"
     ]
    }
   ],
   "source": [
    "import numpy as np\n",
    "\n",
    "# Define matrix A\n",
    "A = np.array([[-1, 3, 1],\n",
    "              [5, 2, 1],\n",
    "              [2, 0, 0]])\n",
    "\n",
    "# Define vector u\n",
    "u = np.array([[2],\n",
    "              [1],\n",
    "              [-2]])\n",
    "\n",
    "# Calculate u transpose\n",
    "u_transpose = u.T\n",
    "\n",
    "# Perform the operation (u transpose) * A\n",
    "result = np.dot(u_transpose, A)\n",
    "\n",
    "print(result)"
   ]
  },
  {
   "cell_type": "markdown",
   "metadata": {},
   "source": [
    "### 4\n",
    "\n",
    "![Question4](./images/4.png)\n",
    "\n",
    "Right Answer: \n",
    "\n",
    "```\n",
    "\n",
    "[[ 0  1  0  3]\n",
    " [ 4 -2  2  5]\n",
    " [ 6  3  5  1]\n",
    " [ 1  5  4  1]]\n",
    "\n",
    "```"
   ]
  },
  {
   "cell_type": "code",
   "execution_count": 9,
   "metadata": {},
   "outputs": [
    {
     "name": "stdout",
     "output_type": "stream",
     "text": [
      "[[ 0.  1.  0.  3.]\n",
      " [ 4. -2.  2.  5.]\n",
      " [ 6.  3.  5.  1.]\n",
      " [ 1.  5.  4.  1.]]\n"
     ]
    }
   ],
   "source": [
    "import numpy as np\n",
    "\n",
    "# Given values\n",
    "lambda_value = 2\n",
    "B = np.array([[2, 1, 0, 3],\n",
    "              [4, 0, 2, 5],\n",
    "              [6, 3, 7, 1],\n",
    "              [1, 5, 4, 3]])\n",
    "I = np.identity(4)\n",
    "\n",
    "# Calculating lambda times the identity matrix\n",
    "lambda_I = lambda_value * I\n",
    "\n",
    "# Subtracting lambda*I from B\n",
    "result = B - lambda_I\n",
    "\n",
    "print(result)"
   ]
  },
  {
   "cell_type": "markdown",
   "metadata": {},
   "source": [
    "### 5\n",
    "\n",
    "![Question5](./images/5.png)\n",
    "\n",
    "Right Answer: `True`"
   ]
  },
  {
   "cell_type": "code",
   "execution_count": 10,
   "metadata": {},
   "outputs": [
    {
     "name": "stdout",
     "output_type": "stream",
     "text": [
      "Is the matrix U unitary? True\n"
     ]
    }
   ],
   "source": [
    "import numpy as np\n",
    "\n",
    "# Define the matrix U\n",
    "U = np.array([[-1/np.sqrt(3), np.sqrt(2/3)],\n",
    "              [np.sqrt(2/3), 1/np.sqrt(3)]])\n",
    "\n",
    "# Calculate the conjugate transpose of U\n",
    "U_dagger = np.conjugate(U.T)\n",
    "\n",
    "# Calculate the product of U_dagger and U\n",
    "product = np.dot(U_dagger, U)\n",
    "\n",
    "# Define the identity matrix of the same size\n",
    "I = np.identity(2)\n",
    "\n",
    "# Check if the product is equal to the identity matrix\n",
    "is_unitary = np.allclose(product, I)\n",
    "\n",
    "print(\"Is the matrix U unitary?\", is_unitary)"
   ]
  },
  {
   "cell_type": "markdown",
   "metadata": {},
   "source": [
    "### 6\n",
    "\n",
    "![Question6](./images/6.png)\n",
    "\n",
    "Right Answer: \n",
    "\n",
    "```\n",
    "\n",
    "[[ 0  0 -1 -2]\n",
    " [ 0  0 -3 -4]\n",
    " [ 1  2  0  0]\n",
    " [ 3  4  0  0]]\n",
    "\n",
    "```"
   ]
  },
  {
   "cell_type": "code",
   "execution_count": 11,
   "metadata": {},
   "outputs": [
    {
     "name": "stdout",
     "output_type": "stream",
     "text": [
      "[[ 0  0 -1 -2]\n",
      " [ 0  0 -3 -4]\n",
      " [ 1  2  0  0]\n",
      " [ 3  4  0  0]]\n"
     ]
    }
   ],
   "source": [
    "import numpy as np\n",
    "\n",
    "# Define the matrices A and B\n",
    "A = np.array([[0, -1], [1, 0]])\n",
    "B = np.array([[1, 2], [3, 4]])\n",
    "\n",
    "# Compute the Kronecker product\n",
    "result = np.kron(A, B)\n",
    "\n",
    "print(result)"
   ]
  },
  {
   "cell_type": "markdown",
   "metadata": {},
   "source": [
    "### 7\n",
    "\n",
    "![Question7](./images/7.png)\n",
    "\n",
    "Right Answer: `⟨ψ| = (i  3+i 2−2i)`"
   ]
  },
  {
   "cell_type": "code",
   "execution_count": 12,
   "metadata": {},
   "outputs": [
    {
     "name": "stdout",
     "output_type": "stream",
     "text": [
      "[-0.+1.j  3.+1.j  2.-2.j]\n"
     ]
    }
   ],
   "source": [
    "import numpy as np\n",
    "\n",
    "# Define the ket\n",
    "ket = np.array([-1j, 3 - 1j, 2 + 2j])\n",
    "\n",
    "# Calculate the bra by taking the complex conjugate\n",
    "bra = np.conjugate(ket)\n",
    "\n",
    "print(bra)"
   ]
  },
  {
   "cell_type": "markdown",
   "metadata": {},
   "source": [
    "### 8\n",
    "\n",
    "![Question8](./images/8.png)\n",
    "\n",
    "Right Answer: `−4 + 7i`"
   ]
  },
  {
   "cell_type": "code",
   "execution_count": 13,
   "metadata": {},
   "outputs": [
    {
     "name": "stdout",
     "output_type": "stream",
     "text": [
      "(-4+7j)\n"
     ]
    }
   ],
   "source": [
    "import numpy as np\n",
    "\n",
    "# Define the vectors |w⟩ and |u⟩\n",
    "w = np.array([3 + 2j, -2j, 1])\n",
    "u = np.array([-2, 1 - 1j, 1j])\n",
    "\n",
    "# Calculate the conjugate transpose of |w⟩\n",
    "w_conjugate_transpose = np.conjugate(w)\n",
    "\n",
    "# Calculate the inner product ⟨w|u⟩\n",
    "inner_product = np.dot(w_conjugate_transpose, u)\n",
    "\n",
    "print(inner_product)\n"
   ]
  },
  {
   "cell_type": "markdown",
   "metadata": {},
   "source": [
    "### 9\n",
    "\n",
    "![Question9](./images/9.png)\n",
    "\n",
    "Right Answer: `c = B.dot(b)`"
   ]
  },
  {
   "cell_type": "code",
   "execution_count": 14,
   "metadata": {},
   "outputs": [
    {
     "name": "stdout",
     "output_type": "stream",
     "text": [
      "[8 9]\n"
     ]
    }
   ],
   "source": [
    "import numpy as np\n",
    "\n",
    "# Define the arrays\n",
    "b = np.array([1, 3])\n",
    "B = np.array([[2, 2], [-6, 5]])\n",
    "\n",
    "# Replace the commented line with the following\n",
    "c = B.dot(b)\n",
    "\n",
    "print(c)"
   ]
  },
  {
   "cell_type": "markdown",
   "metadata": {},
   "source": [
    "### 10\n",
    "\n",
    "![Question10](./images/10.png)\n",
    "\n",
    "Right Answer: Postulate 3"
   ]
  },
  {
   "cell_type": "markdown",
   "metadata": {},
   "source": [
    "### THE END"
   ]
  },
  {
   "cell_type": "markdown",
   "metadata": {},
   "source": []
  }
 ],
 "metadata": {
  "kernelspec": {
   "display_name": "Qclass2425",
   "language": "python",
   "name": "python3"
  },
  "language_info": {
   "codemirror_mode": {
    "name": "ipython",
    "version": 3
   },
   "file_extension": ".py",
   "mimetype": "text/x-python",
   "name": "python",
   "nbconvert_exporter": "python",
   "pygments_lexer": "ipython3",
   "version": "3.12.0"
  }
 },
 "nbformat": 4,
 "nbformat_minor": 2
}
