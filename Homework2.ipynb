{
 "cells": [
  {
   "cell_type": "markdown",
   "metadata": {},
   "source": [
    "# Homework 2\n",
    "\n",
    "[[.4 .6]\n",
    " [.8 .2]]\n",
    "\n",
    "[[0.6 0.4]\n",
    " [0.8 0.2]]\n",
    "  \n",
    "### 1\n",
    "\n",
    "![Question1](./images/11.png)\n",
    "\n",
    "> Right Answer \n",
    "\n",
    "```\n",
    "[[1/3 2/3]\n",
    " [2/3 1/3]] \n",
    "\n",
    "and \n",
    "\n",
    "[[1/2 1/2]\n",
    " [1/2 1/2]] \n",
    "```\n",
    "\n",
    "Explanation:\n",
    "\n",
    "To determine which of the given matrices are stochastic, we need to check if each column of the matrix consists of non-negative real numbers that sum up to 1."
   ]
  },
  {
   "cell_type": "markdown",
   "metadata": {},
   "source": [
    "### 2\n",
    "\n",
    "![Question2](./images/12.png)\n",
    "\n",
    "> Right Answer \n",
    "\n",
    "```\n",
    "Heads: 585 Tails: 415\n",
    "```\n",
    "\n",
    "Explanation:\n",
    "\n",
    "To determine the most likely outcome of flipping a biased coin 1000 times, where the probability of landing on Tails is 0.4, we can use the binomial distribution. The expected number of Tails in 1000 flips can be calculated as follows:\n",
    "\n",
    "Expected Tails = 1000 times 0.4 = 400 \n",
    "\n",
    "Similarly, the expected number of Heads would be:\n",
    "\n",
    "Expected Heads = 1000 times 0.6 = 600 \n",
    "\n",
    "Given this, let's compare the provided options to see which one is closest to the expected values:\n",
    "\n",
    "1. **Heads: 585, Tails: 415**\n",
    "2. **Heads: 203, Tails: 797**\n",
    "3. **Heads: 500, Tails: 500**\n",
    "4. **Heads: 102, Tails: 898**\n",
    "\n",
    "The first option, **Heads: 585, Tails: 415**, is the closest to the expected values of 600 Heads and 400 Tails. Therefore, this is the most likely outcome compared to the others."
   ]
  },
  {
   "cell_type": "markdown",
   "metadata": {},
   "source": [
    "### 3\n",
    "\n",
    "![Question3](./images/13.png)\n",
    "\n",
    "> Right Answer \n",
    "\n",
    "```\n",
    "0.15\n",
    "```"
   ]
  },
  {
   "cell_type": "code",
   "execution_count": 88,
   "metadata": {},
   "outputs": [
    {
     "name": "stdout",
     "output_type": "stream",
     "text": [
      "0.15\n"
     ]
    }
   ],
   "source": [
    "# Define the transition matrix\n",
    "transition_matrix = [\n",
    "    [0.10, 0.20, 0.30, 0.40],\n",
    "    [0.35, 0.25, 0.15, 0.05],\n",
    "    [0.05, 0.15, 0.25, 0.35],\n",
    "    [0.50, 0.40, 0.30, 0.20]\n",
    "]\n",
    "\n",
    "# Define the initial state (state [01]) as index position in the matrix\n",
    "initial_state_index = int('01', 2)  # Convert binary string '01' to integer\n",
    "\n",
    "# Define the final state (state [10]) as index position in the matrix\n",
    "final_state_index = int('10', 2)  # Convert binary string '10' to integer\n",
    "\n",
    "# Extract the probability of going from initial state to final state\n",
    "probability = transition_matrix[initial_state_index][final_state_index]\n",
    "\n",
    "print(probability)\n"
   ]
  },
  {
   "cell_type": "markdown",
   "metadata": {},
   "source": [
    "### 4\n",
    "\n",
    "![Question4](./images/14.png)\n",
    "\n",
    "> Right Answer \n",
    "\n",
    "```\n",
    "False\n",
    "```\n",
    "\n",
    "Explanation:\n",
    "\n",
    "In a probabilistic operator (or transition matrix), each row represents the probabilities of transitioning from a given state to all possible states. Since these probabilities must account for all possible outcomes, the sum of the probabilities in each row must equal 1. This ensures that the total probability of transitioning from one state to any state is 1."
   ]
  },
  {
   "cell_type": "markdown",
   "metadata": {},
   "source": [
    "### 5\n",
    "\n",
    "![Question5](./images/15.png)\n",
    "\n",
    "> Right Answer \n",
    "\n",
    "```\n",
    "8/15\n",
    "```"
   ]
  },
  {
   "cell_type": "code",
   "execution_count": 89,
   "metadata": {},
   "outputs": [
    {
     "name": "stdout",
     "output_type": "stream",
     "text": [
      "Probability of state |10⟩: 0.5333333333333333\n"
     ]
    }
   ],
   "source": [
    "# Probabilities for b1\n",
    "b1_0 = 1/5  # Probability of b1 being in state 0\n",
    "b1_1 = 4/5  # Probability of b1 being in state 1\n",
    "\n",
    "# Probabilities for b2\n",
    "b2_0 = 2/3  # Probability of b2 being in state 0\n",
    "b2_1 = 1/3  # Probability of b2 being in state 1\n",
    "\n",
    "# Probability of the combined state |10⟩\n",
    "prob_10 = b1_1 * b2_0\n",
    "\n",
    "print(f\"Probability of state |10⟩: {prob_10}\")\n"
   ]
  },
  {
   "cell_type": "markdown",
   "metadata": {},
   "source": [
    "### 6\n",
    "\n",
    "![Question6](./images/16.png)\n",
    "\n",
    "> Right Answer \n",
    "\n",
    "```\n",
    "4\n",
    "```\n",
    "\n",
    "\n",
    "Explanation: \n",
    "\n",
    "To determine the dimension of the vector representing a system with 2 coins, we need to consider the possible states of each coin. Each coin can be in one of two states: heads (H) or tails (T).\n",
    "\n",
    "For 2 coins, the possible states are:\n",
    "1. HH\n",
    "2. HT\n",
    "3. TH\n",
    "4. TT\n",
    "\n",
    "This gives us a total of ( 2 * 2 = 4 ) possible states. \n",
    "Therefore, the dimension of the vector representing a system with 2 coins is: **4**."
   ]
  },
  {
   "cell_type": "markdown",
   "metadata": {},
   "source": [
    "### 7\n",
    "\n",
    "![Question7](./images/17.png)\n",
    "\n",
    "> Right Answer \n",
    "\n",
    "```\n",
    "39\n",
    "```\n",
    "\n",
    "Explanation:\n",
    "\n",
    "If you use `if randrange(100) <= P:` instead of `if randrange(100) < P:`, the value of ( P ) will need to be adjusted slightly to maintain the same probability.\n",
    "\n",
    "### Explanation\n",
    "- `randrange(100)` generates a random integer from 0 to 99, inclusive.\n",
    "- Using `if randrange(100) <= P:` means the condition is true for ( P+1 ) values (0 to ( P )).\n",
    "\n",
    "To achieve a 40% probability of landing on tails:\n",
    "- With `if randrange(100) <= P:`, ( P ) should be 39.\n",
    "\n",
    "In this case, setting ( P ) to 39 will result in a 40% probability of landing on tails.\n",
    "\n"
   ]
  },
  {
   "cell_type": "code",
   "execution_count": 114,
   "metadata": {},
   "outputs": [
    {
     "name": "stdout",
     "output_type": "stream",
     "text": [
      "602 398\n"
     ]
    }
   ],
   "source": [
    "from random import randrange\n",
    "\n",
    "P = 40\n",
    "heads = tails = 0\n",
    "for i in range(1000):\n",
    "    if randrange(100) <= P:\n",
    "        tails = tails + 1\n",
    "    else:\n",
    "        heads = heads + 1\n",
    "print(heads,tails)"
   ]
  },
  {
   "cell_type": "markdown",
   "metadata": {},
   "source": [
    "### 8\n",
    "\n",
    "![Question8](./images/18.png)\n",
    "\n",
    "> Right Answer \n",
    "\n",
    "```\n",
    "[[0.6 0.4]\n",
    " [0.8 0.2]]\n",
    "```\n",
    "\n",
    "Explanation:\n",
    "\n",
    "The probabilistic operator for the weather transitions described can be represented as a transition matrix. Given the probabilities:\n",
    "\n",
    "- If today is sunny, the probability that tomorrow is sunny is 0.2.\n",
    "- If today is sunny, the probability that tomorrow is rainy is 0.8.\n",
    "- If today is rainy, the probability that tomorrow is sunny is 0.4.\n",
    "- If today is rainy, the probability that tomorrow is rainy is 0.6.\n",
    "\n",
    "The transition matrix ( T ) can be written as:\n",
    "\n",
    "```\n",
    "[ T = begin{pmatrix}\n",
    "0.2 & 0.8 \n",
    "0.4 & 0.6\n",
    "end{pmatrix} ]\n",
    "```\n",
    "\n",
    "This matrix represents the probabilities of transitioning from one state to another, where the rows correspond to the current state (sunny or rainy), and the columns correspond to the next state (sunny or rainy).\n",
    "\n",
    "So, the correct probabilistic operator is:\n",
    "\n",
    "```\n",
    "[ T = begin{pmatrix}\n",
    "0.2 & 0.8 \n",
    "0.4 & 0.6\n",
    "end{pmatrix} ]\n",
    "```\n"
   ]
  },
  {
   "cell_type": "markdown",
   "metadata": {},
   "source": [
    "### 9\n",
    "\n",
    "![Question9](./images/19.png)\n",
    "\n",
    "> Right Answer \n",
    "\n",
    "```\n",
    "False\n",
    "```"
   ]
  },
  {
   "cell_type": "code",
   "execution_count": 91,
   "metadata": {},
   "outputs": [
    {
     "name": "stdout",
     "output_type": "stream",
     "text": [
      "[0.25, 0.25, 0.25, 0.25]\n"
     ]
    }
   ],
   "source": [
    "from random import randrange\n",
    "\n",
    "a = b = c = d = randrange(100)\n",
    "sum = a + b + c + d\n",
    "\n",
    "state = [a/sum,b/sum,c/sum,d/sum]\n",
    "\n",
    "print(state)"
   ]
  },
  {
   "cell_type": "markdown",
   "metadata": {},
   "source": [
    "### 10\n",
    "\n",
    "![Question1](./images/20.png)\n",
    "\n",
    "> Right Answer \n",
    "\n",
    "```\n",
    "27\n",
    "```"
   ]
  },
  {
   "cell_type": "code",
   "execution_count": 92,
   "metadata": {},
   "outputs": [
    {
     "name": "stdout",
     "output_type": "stream",
     "text": [
      "26\n"
     ]
    }
   ],
   "source": [
    "from random import randrange \n",
    "\n",
    "heads = tails = 0\n",
    "\n",
    "for i in range(100):\n",
    "    if randrange(4)==randrange(4): heads = heads + 1\n",
    "    else: tails = tails + 1\n",
    "print(heads)"
   ]
  }
 ],
 "metadata": {
  "kernelspec": {
   "display_name": "Qclass2425",
   "language": "python",
   "name": "python3"
  },
  "language_info": {
   "codemirror_mode": {
    "name": "ipython",
    "version": 3
   },
   "file_extension": ".py",
   "mimetype": "text/x-python",
   "name": "python",
   "nbconvert_exporter": "python",
   "pygments_lexer": "ipython3",
   "version": "3.12.0"
  }
 },
 "nbformat": 4,
 "nbformat_minor": 2
}
